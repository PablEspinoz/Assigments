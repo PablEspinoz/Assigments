"A2: Python Exercises"

"Pablo de Jesus Espinoza Martinez"
"1808884"
"Thursday M4"




{
  "nbformat": 4,
  "nbformat_minor": 0,
  "metadata": {
    "colab": {
      "provenance": [],
      "authorship_tag": "ABX9TyOjwvRUP5KzZLTpI8s/oiNy",
      "include_colab_link": true
    },
    "kernelspec": {
      "name": "python3",
      "display_name": "Python 3"
    },
    "language_info": {
      "name": "python"
    }
  },
  "cells": [
    {
      "cell_type": "markdown",
      "metadata": {
        "id": "view-in-github",
        "colab_type": "text"
      },
      "source": [
        "<a href=\"https://colab.research.google.com/github/PablEspinoz/Assigments/blob/main/AI_Assignment1_PabloEspinoza_1808884.ipynb\" target=\"_parent\"><img src=\"https://colab.research.google.com/assets/colab-badge.svg\" alt=\"Open In Colab\"/></a>"
      ]
    },
    {
      "cell_type": "code",
      "execution_count": 2,
      "metadata": {
        "colab": {
          "base_uri": "https://localhost:8080/"
        },
        "id": "9_oWdDp7LoBS",
        "outputId": "67e5f73c-591d-4e29-c8b4-49328038cdf5"
      },
      "outputs": [
        {
          "output_type": "stream",
          "name": "stdout",
          "text": [
            "What´s your name? Ana\n",
            ":|\n"
          ]
        }
      ],
      "source": [
        "'''Create a python script where the user is going to be asked for the name. \n",
        "After that, the program will greet the user with the given name.\n",
        "Only exception: the script will not greet the user if the given name is \"Ana\", \"John\" or \"Peter\".'''\n",
        "\n",
        "list = [\"Ana\", \"Jhon\", \"Peter\"]\n",
        "name = input(\"What´s your name? \")\n",
        "x = name\n",
        "if x not in list:\n",
        "    print(\"Hi, nice to meet you\")\n",
        "else:\n",
        "    print(\":|\")"
      ]
    },
    {
      "cell_type": "code",
      "source": [
        "'''Create a function in a pyhton script that returns (print) the last element of a given list,\n",
        "reverts the order of the list and finally returns (print) the reverted list.'''\n",
        "\n",
        "list = [0,1,2,3,4]\n",
        "list.reverse()\n",
        "print(\"List reversed() \", list)\n",
        "last = list.pop()\n",
        "print(last)\n"
      ],
      "metadata": {
        "colab": {
          "base_uri": "https://localhost:8080/"
        },
        "id": "OLnP07ZgLviT",
        "outputId": "b5b4649b-4738-4ec3-f793-00fe1d2046fc"
      },
      "execution_count": 3,
      "outputs": [
        {
          "output_type": "stream",
          "name": "stdout",
          "text": [
            "List reversed()  [4, 3, 2, 1, 0]\n",
            "0\n"
          ]
        }
      ]
    },
    {
      "cell_type": "code",
      "source": [
        "'''Create a function in a python script that takes a list of strings\n",
        "as input and then it prints, line by line,\n",
        "the whole list in a rectangular shape.'''\n",
        "\n",
        "x = input(\"Talk to me: \")\n",
        "a = x\n",
        "for x in a:\n",
        "    print(x, end = \"\\n\")"
      ],
      "metadata": {
        "colab": {
          "base_uri": "https://localhost:8080/"
        },
        "id": "yZ2g_XM8L2bz",
        "outputId": "f5958a8e-1224-4c37-ca5c-1d00550abbc9"
      },
      "execution_count": 4,
      "outputs": [
        {
          "output_type": "stream",
          "name": "stdout",
          "text": [
            "Talk to me: Hi, i´m Pablo\n",
            "H\n",
            "i\n",
            ",\n",
            " \n",
            "i\n",
            "´\n",
            "m\n",
            " \n",
            "P\n",
            "a\n",
            "b\n",
            "l\n",
            "o\n"
          ]
        }
      ]
    }
  ]
}
